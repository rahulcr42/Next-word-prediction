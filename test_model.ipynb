{
 "cells": [
  {
   "cell_type": "code",
   "execution_count": 7,
   "metadata": {},
   "outputs": [
    {
     "name": "stderr",
     "output_type": "stream",
     "text": [
      "WARNING:absl:Compiled the loaded model, but the compiled metrics have yet to be built. `model.compile_metrics` will be empty until you train or evaluate the model.\n"
     ]
    },
    {
     "name": "stdout",
     "output_type": "stream",
     "text": [
      "You entered: who knew his every mood \n"
     ]
    }
   ],
   "source": [
    "import numpy as np\n",
    "from tensorflow.keras.models import load_model\n",
    "from nltk.tokenize import RegexpTokenizer\n",
    "import re\n",
    "\n",
    "# Load the trained model\n",
    "model = load_model(\"next_word_prediction_model.h5\")\n",
    "\n",
    "# Load and clean the text data (same as during training)\n",
    "with open(\"data.txt\", \"r\", encoding=\"utf-8\") as f:\n",
    "    text = f.read()\n",
    "\n",
    "text_cleaned = re.sub(r\"THE ADVENTURES OF SHERLOCK HOLMES.*?Table of contents\", \"\", text, flags=re.DOTALL)\n",
    "text_cleaned = re.sub(r\"(\\n|\\r|\\r\\n)+\", \" \", text_cleaned)  # Remove extra newlines\n",
    "text_cleaned = text_cleaned.strip()  # Remove leading/trailing spaces\n",
    "text_cleaned = text_cleaned.lower()\n",
    "\n",
    "# Tokenize the cleaned text\n",
    "tokenizer = RegexpTokenizer(r\"\\w+\")\n",
    "tokens = tokenizer.tokenize(text_cleaned)\n",
    "\n",
    "# Create a mapping of unique tokens to indices (same as during training)\n",
    "unique_tokens = np.unique(tokens)\n",
    "unique_token_index = {token: index for index, token in enumerate(unique_tokens)}\n",
    "\n",
    "# Function to predict the next word given an input sequence\n",
    "def predict_next_word(input_sequence):\n",
    "    # Tokenize and convert the input words to indices\n",
    "    input_tokens = tokenizer.tokenize(input_sequence.lower())  # Tokenize the input sequence\n",
    "    input_indices = [unique_token_index[token] for token in input_tokens if token in unique_token_index]\n",
    "\n",
    "    # If the sequence has fewer words than expected, pad it\n",
    "    if len(input_indices) < 10:\n",
    "        input_indices = [0] * (10 - len(input_indices)) + input_indices  # Padding with zero\n",
    "\n",
    "    # Ensure the input is of shape (1, 10) to match the model's input\n",
    "    input_array = np.array(input_indices).reshape(1, 10)\n",
    "\n",
    "    # Predict the next word\n",
    "    prediction = model.predict(input_array)\n",
    "\n",
    "    # Get the predicted index and map it back to a word\n",
    "    predicted_index = np.argmax(prediction)\n",
    "    predicted_word = unique_tokens[predicted_index]\n",
    "\n",
    "    return predicted_word\n",
    "\n",
    "# Taking user input directly in the notebook\n",
    "input_sequence = input(\"Enter a sequence of words to predict the next word: \")\n",
    "\n",
    "input_text = input(\"Enter some text: \")\n",
    "print(f\"You entered: {input_text}\")\n",
    "\n",
    "\n"
   ]
  }
 ],
 "metadata": {
  "kernelspec": {
   "display_name": "Python 3",
   "language": "python",
   "name": "python3"
  },
  "language_info": {
   "codemirror_mode": {
    "name": "ipython",
    "version": 3
   },
   "file_extension": ".py",
   "mimetype": "text/x-python",
   "name": "python",
   "nbconvert_exporter": "python",
   "pygments_lexer": "ipython3",
   "version": "3.12.8"
  }
 },
 "nbformat": 4,
 "nbformat_minor": 2
}
